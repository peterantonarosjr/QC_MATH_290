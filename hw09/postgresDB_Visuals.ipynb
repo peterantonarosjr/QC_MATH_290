{
 "cells": [
  {
   "cell_type": "code",
   "execution_count": 1,
   "id": "db4cb100",
   "metadata": {
    "scrolled": true
   },
   "outputs": [
    {
     "name": "stdout",
     "output_type": "stream",
     "text": [
      "Requirement already satisfied: psycopg2-binary in /home/peterjr/anaconda3/lib/python3.8/site-packages (2.9.3)\r\n"
     ]
    }
   ],
   "source": [
    "!pip install psycopg2-binary"
   ]
  },
  {
   "cell_type": "code",
   "execution_count": 2,
   "id": "a516c35a",
   "metadata": {
    "scrolled": true
   },
   "outputs": [],
   "source": [
    "import psycopg2\n",
    "\n",
    "psqlConnection = psycopg2.connect(\n",
    "    host = '/var/run/postgresql',\n",
    "    database = 'imdb',\n",
    "    user = 'HAHAHAH',\n",
    "    password = 'HAHAHAH'\n",
    ")\n"
   ]
  },
  {
   "cell_type": "code",
   "execution_count": 3,
   "id": "69a0f39d",
   "metadata": {},
   "outputs": [],
   "source": [
    "cursor = psqlConnection.cursor()\n",
    "\n",
    "cursor.execute('''select * from imdb.public.xf_title_ratings''')"
   ]
  },
  {
   "cell_type": "code",
   "execution_count": 4,
   "id": "558ce934",
   "metadata": {},
   "outputs": [],
   "source": [
    "title_ratings = cursor.fetchall()"
   ]
  },
  {
   "cell_type": "code",
   "execution_count": 5,
   "id": "9051ca96",
   "metadata": {},
   "outputs": [],
   "source": [
    "psqlConnection.commit()"
   ]
  },
  {
   "cell_type": "code",
   "execution_count": 6,
   "id": "6fe999d6",
   "metadata": {},
   "outputs": [
    {
     "data": {
      "text/html": [
       "<div>\n",
       "<style scoped>\n",
       "    .dataframe tbody tr th:only-of-type {\n",
       "        vertical-align: middle;\n",
       "    }\n",
       "\n",
       "    .dataframe tbody tr th {\n",
       "        vertical-align: top;\n",
       "    }\n",
       "\n",
       "    .dataframe thead th {\n",
       "        text-align: right;\n",
       "    }\n",
       "</style>\n",
       "<table border=\"1\" class=\"dataframe\">\n",
       "  <thead>\n",
       "    <tr style=\"text-align: right;\">\n",
       "      <th></th>\n",
       "      <th>tconst</th>\n",
       "      <th>avgrating</th>\n",
       "      <th>numvotes</th>\n",
       "    </tr>\n",
       "  </thead>\n",
       "  <tbody>\n",
       "    <tr>\n",
       "      <th>0</th>\n",
       "      <td>tt0000001</td>\n",
       "      <td>5.7</td>\n",
       "      <td>1868</td>\n",
       "    </tr>\n",
       "    <tr>\n",
       "      <th>1</th>\n",
       "      <td>tt0000002</td>\n",
       "      <td>5.9</td>\n",
       "      <td>247</td>\n",
       "    </tr>\n",
       "    <tr>\n",
       "      <th>2</th>\n",
       "      <td>tt0000003</td>\n",
       "      <td>6.5</td>\n",
       "      <td>1640</td>\n",
       "    </tr>\n",
       "    <tr>\n",
       "      <th>3</th>\n",
       "      <td>tt0000004</td>\n",
       "      <td>5.8</td>\n",
       "      <td>159</td>\n",
       "    </tr>\n",
       "    <tr>\n",
       "      <th>4</th>\n",
       "      <td>tt0000005</td>\n",
       "      <td>6.2</td>\n",
       "      <td>2463</td>\n",
       "    </tr>\n",
       "    <tr>\n",
       "      <th>...</th>\n",
       "      <td>...</td>\n",
       "      <td>...</td>\n",
       "      <td>...</td>\n",
       "    </tr>\n",
       "    <tr>\n",
       "      <th>1226993</th>\n",
       "      <td>tt9916690</td>\n",
       "      <td>6.6</td>\n",
       "      <td>5</td>\n",
       "    </tr>\n",
       "    <tr>\n",
       "      <th>1226994</th>\n",
       "      <td>tt9916720</td>\n",
       "      <td>5.7</td>\n",
       "      <td>199</td>\n",
       "    </tr>\n",
       "    <tr>\n",
       "      <th>1226995</th>\n",
       "      <td>tt9916730</td>\n",
       "      <td>8.4</td>\n",
       "      <td>5</td>\n",
       "    </tr>\n",
       "    <tr>\n",
       "      <th>1226996</th>\n",
       "      <td>tt9916766</td>\n",
       "      <td>6.7</td>\n",
       "      <td>19</td>\n",
       "    </tr>\n",
       "    <tr>\n",
       "      <th>1226997</th>\n",
       "      <td>tt9916778</td>\n",
       "      <td>7.1</td>\n",
       "      <td>34</td>\n",
       "    </tr>\n",
       "  </tbody>\n",
       "</table>\n",
       "<p>1226998 rows × 3 columns</p>\n",
       "</div>"
      ],
      "text/plain": [
       "            tconst avgrating  numvotes\n",
       "0        tt0000001       5.7      1868\n",
       "1        tt0000002       5.9       247\n",
       "2        tt0000003       6.5      1640\n",
       "3        tt0000004       5.8       159\n",
       "4        tt0000005       6.2      2463\n",
       "...            ...       ...       ...\n",
       "1226993  tt9916690       6.6         5\n",
       "1226994  tt9916720       5.7       199\n",
       "1226995  tt9916730       8.4         5\n",
       "1226996  tt9916766       6.7        19\n",
       "1226997  tt9916778       7.1        34\n",
       "\n",
       "[1226998 rows x 3 columns]"
      ]
     },
     "execution_count": 6,
     "metadata": {},
     "output_type": "execute_result"
    }
   ],
   "source": [
    "import pandas as pd\n",
    "\n",
    "title_ratings = pd.DataFrame(list(title_ratings), \n",
    "                             columns = ['tconst', \n",
    "                                        'avgrating', \n",
    "                                        'numvotes'\n",
    "                                       ]\n",
    "                            )\n",
    "title_ratings"
   ]
  },
  {
   "cell_type": "code",
   "execution_count": 9,
   "id": "8a8fb9e3",
   "metadata": {
    "scrolled": true
   },
   "outputs": [
    {
     "data": {
      "image/png": "[encoded data removed]",
      "text/plain": [
       "<Figure size 432x288 with 1 Axes>"
      ]
     },
     "metadata": {
      "needs_background": "light"
     },
     "output_type": "display_data"
    }
   ],
   "source": [
    "import matplotlib.pyplot as plt\n",
    "%matplotlib inline\n",
    "\n",
    "#This is a histogram with 100 bins, I tested with varying bin #s and this seemed to provide\n",
    "#the best tradeoff between granularity and performance\n",
    "\n",
    "\n",
    "x = title_ratings['avgrating']\n",
    "\n",
    "plt.hist(x, density=False, bins = 100)\n",
    "plt.xlabel('Average Rating');\n",
    "plt.ylabel('Relative Frequency');\n"
   ]
  },
  {
   "cell_type": "code",
   "execution_count": 10,
   "id": "1ee56da1",
   "metadata": {},
   "outputs": [
    {
     "data": {
      "image/png": "[encoded data removed]",
      "text/plain": [
       "<Figure size 432x288 with 1 Axes>"
      ]
     },
     "metadata": {
      "needs_background": "light"
     },
     "output_type": "display_data"
    }
   ],
   "source": [
    "plt.hist(x, density=True, bins = 100)\n",
    "plt.xlabel('Average Rating');\n",
    "plt.ylabel('Relative Frequency');"
   ]
  },
  {
   "cell_type": "code",
   "execution_count": 8,
   "id": "92a5368f",
   "metadata": {},
   "outputs": [
    {
     "name": "stderr",
     "output_type": "stream",
     "text": [
      "/home/peterjr/anaconda3/lib/python3.8/site-packages/scipy/stats/morestats.py:1681: UserWarning: p-value may not be accurate for N > 5000.\n",
      "  warnings.warn(\"p-value may not be accurate for N > 5000.\")\n"
     ]
    },
    {
     "data": {
      "text/plain": [
       "ShapiroResult(statistic=0.9668972492218018, pvalue=0.0)"
      ]
     },
     "execution_count": 8,
     "metadata": {},
     "output_type": "execute_result"
    }
   ],
   "source": [
    "from scipy.stats import shapiro\n",
    "\n",
    "shapiro(title_ratings['avgrating'])"
   ]
  },
  {
   "cell_type": "code",
   "execution_count": null,
   "id": "512770f3",
   "metadata": {},
   "outputs": [],
   "source": []
  }
 ],
 "metadata": {
  "kernelspec": {
   "display_name": "Python 3 (ipykernel)",
   "language": "python",
   "name": "python3"
  },
  "language_info": {
   "codemirror_mode": {
    "name": "ipython",
    "version": 3
   },
   "file_extension": ".py",
   "mimetype": "text/x-python",
   "name": "python",
   "nbconvert_exporter": "python",
   "pygments_lexer": "ipython3",
   "version": "3.8.11"
  }
 },
 "nbformat": 4,
 "nbformat_minor": 5
}
